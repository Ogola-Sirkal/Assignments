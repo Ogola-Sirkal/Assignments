{
 "cells": [
  {
   "cell_type": "markdown",
   "id": "f98c7952",
   "metadata": {},
   "source": [
    "$ A \\cap B$"
   ]
  },
  {
   "cell_type": "code",
   "execution_count": 7,
   "id": "39db75d5",
   "metadata": {},
   "outputs": [
    {
     "name": "stdout",
     "output_type": "stream",
     "text": [
      "{8}\n"
     ]
    }
   ],
   "source": [
    "Omega={1, 2, 3, 4, 5, 6, 7, 8, 9, 10, 11, 12, 13}\n",
    "A = {2,4,6,8,10}\n",
    "B ={3, 8, 11,12}\n",
    "C ={2, 3,6,8, 9, 11}\n",
    "A & B  #Meaning common elements between A and B , #∩  symbol used to show intersection\n",
    "intersect = A & B\n",
    "print (intersect)"
   ]
  },
  {
   "cell_type": "markdown",
   "id": "236d7bb6",
   "metadata": {},
   "source": [
    "$ A \\cup C$"
   ]
  },
  {
   "cell_type": "code",
   "execution_count": 9,
   "id": "f48a57cb",
   "metadata": {},
   "outputs": [
    {
     "name": "stdout",
     "output_type": "stream",
     "text": [
      "{2, 3, 4, 6, 8, 9, 10, 11}\n"
     ]
    }
   ],
   "source": [
    "A.union(C) #The union of two sets A and C is the set of all elements that are in A, or in C, or in both.\n",
    "union = A.union(C)\n",
    "print (union)"
   ]
  },
  {
   "cell_type": "markdown",
   "id": "6a6237d7",
   "metadata": {},
   "source": [
    "A\n",
    "c"
   ]
  },
  {
   "cell_type": "code",
   "execution_count": 10,
   "id": "ec94d9c4",
   "metadata": {},
   "outputs": [
    {
     "name": "stdout",
     "output_type": "stream",
     "text": [
      "Complement of A (Omega - A): {1, 3, 5, 7, 9, 11, 12}\n"
     ]
    }
   ],
   "source": [
    "Omega = set(range(1, 13))  # Ω = {1, 2, ..., 12}\n",
    "A = {2, 4, 6, 8, 10}\n",
    "\n",
    "# Complement of A (elements in Omega but not in A)\n",
    "A_complement = Omega - A\n",
    "\n",
    "print(\"Complement of A (Omega - A):\", A_complement)"
   ]
  },
  {
   "cell_type": "markdown",
   "id": "f1c47a82",
   "metadata": {},
   "source": [
    "Bᶜ"
   ]
  },
  {
   "cell_type": "code",
   "execution_count": 11,
   "id": "1941f51c",
   "metadata": {},
   "outputs": [
    {
     "name": "stdout",
     "output_type": "stream",
     "text": [
      "Complement of B (Omega - B): {1, 2, 4, 5, 6, 7, 9, 10}\n"
     ]
    }
   ],
   "source": [
    "Omega = set(range(1, 13))  # Ω = {1, 2, ..., 12}\n",
    "B = {3, 8, 11, 12}\n",
    "\n",
    "# Complement of B (elements in Omega but not in B)\n",
    "B_complement = Omega - B\n",
    "\n",
    "print(\"Complement of B (Omega - B):\", B_complement)"
   ]
  },
  {
   "cell_type": "markdown",
   "id": "04f963eb",
   "metadata": {},
   "source": [
    "(\n",
    "A\n",
    "∪\n",
    "B\n",
    ")\n",
    "c"
   ]
  },
  {
   "cell_type": "code",
   "execution_count": null,
   "id": "054a28be",
   "metadata": {},
   "outputs": [
    {
     "name": "stdout",
     "output_type": "stream",
     "text": [
      "Complement of (A ∪ B): {1, 5, 9, 7}\n"
     ]
    }
   ],
   "source": [
    "Omega-(A | B) #Meaning complement of the union. #Union in this case is denoted by the operator (|)\n",
    "A = {2, 4, 6, 8, 10}\n",
    "B = {3, 8, 11, 12}\n",
    "Omega = set(range(1, 13))  # Ω = {1 to 12}\n",
    "print(\"Complement of (A ∪ B):\", Omega - (A | B))"
   ]
  },
  {
   "cell_type": "markdown",
   "id": "542a52d1",
   "metadata": {},
   "source": [
    "(\n",
    "A\n",
    "∪\n",
    "B\n",
    ")\n",
    "c"
   ]
  },
  {
   "cell_type": "code",
   "execution_count": 29,
   "id": "d49cf68c",
   "metadata": {},
   "outputs": [
    {
     "name": "stdout",
     "output_type": "stream",
     "text": [
      "Complement of (A ∪ B): {1, 5, 9, 7}\n"
     ]
    }
   ],
   "source": [
    "A = {2, 4, 6, 8, 10}\n",
    "B = {3, 8, 11, 12}\n",
    "Omega = set(range(1, 13))  # Ω = {1 to 12}\n",
    "Omega-(A.union (B))\n",
    "#Union in this case is denoted by the operator (.union)\n",
    "\n",
    "print(\"Complement of (A ∪ B):\", Omega - A.union(B))"
   ]
  },
  {
   "cell_type": "markdown",
   "id": "236f2fc8",
   "metadata": {},
   "source": [
    "B\n",
    "∩\n",
    "C\n",
    "′"
   ]
  },
  {
   "cell_type": "code",
   "execution_count": 32,
   "id": "f6c006ab",
   "metadata": {},
   "outputs": [
    {
     "data": {
      "text/plain": [
       "{1, 2, 4, 5, 6, 7, 9, 10, 12}"
      ]
     },
     "execution_count": 32,
     "metadata": {},
     "output_type": "execute_result"
    }
   ],
   "source": [
    "#This is the intersection of set B with the **complement of set C`. #Intersection is denoted by (&)\n",
    "B = {3, 8, 11, 12}\n",
    "C = {2, 3, 6, 8, 9, 11}\n",
    "Omega = set(range(1, 13))  # Ω = {1 to 12}\n",
    "Omega-(B & (C))"
   ]
  },
  {
   "cell_type": "markdown",
   "id": "7f6bc962",
   "metadata": {},
   "source": [
    "A\n",
    "∖\n",
    "B"
   ]
  },
  {
   "cell_type": "code",
   "execution_count": 15,
   "id": "776292d5",
   "metadata": {},
   "outputs": [
    {
     "name": "stdout",
     "output_type": "stream",
     "text": [
      "Relative complement (A - B): {2, 10, 4, 6}\n"
     ]
    }
   ],
   "source": [
    "#This is the relative complement or difference of B from A #It is denoted by the operator {-}\n",
    "# This means we take all elements in A and remove any that are also in B.\n",
    "A = {2, 4, 6, 8, 10}\n",
    "B = {3, 8, 11, 12}\n",
    "\n",
    "relative_complement = A - B\n",
    "print(\"Relative complement (A - B):\", relative_complement)"
   ]
  },
  {
   "cell_type": "markdown",
   "id": "eeeaa0f0",
   "metadata": {},
   "source": [
    "C\n",
    "∖\n",
    "(\n",
    "B\n",
    "∖\n",
    "A\n",
    ")"
   ]
  },
  {
   "cell_type": "code",
   "execution_count": 17,
   "id": "18ae4c96",
   "metadata": {},
   "outputs": [
    {
     "name": "stdout",
     "output_type": "stream",
     "text": [
      "Relative complement (C - (B - A)): {8, 9, 2, 6}\n"
     ]
    }
   ],
   "source": [
    "#Remove from C any elements that are in B but not in A. #Set operator used is {-}\n",
    "A = {2, 4, 6, 8, 10}\n",
    "B = {3, 8, 11, 12}\n",
    "C = {2, 3, 6, 8, 9, 11}\n",
    "relative_complement_nested = C - (B - A)\n",
    "\n",
    "print(\"Relative complement (C - (B - A)):\", relative_complement_nested)"
   ]
  },
  {
   "cell_type": "markdown",
   "id": "5f7195ce",
   "metadata": {},
   "source": [
    "(\n",
    "C\n",
    "∩\n",
    "A\n",
    ")\n",
    "∪\n",
    "(\n",
    "C\n",
    "∖\n",
    "B\n",
    ")"
   ]
  },
  {
   "cell_type": "code",
   "execution_count": 18,
   "id": "876e4301",
   "metadata": {},
   "outputs": [
    {
     "name": "stdout",
     "output_type": "stream",
     "text": [
      "Union of (C ∩ A) and (C \\ B): {2, 6, 8, 9}\n"
     ]
    }
   ],
   "source": [
    "# This is the union of two sets:\n",
    "# (C ∩ A): Elements that are in both C and A (intersection)\n",
    "# (C \\ B): Elements that are in C but not in B (difference)\n",
    "# We then take the union of those two results.\n",
    "\n",
    "A = {2, 4, 6, 8, 10}\n",
    "B = {3, 8, 11, 12}\n",
    "C = {2, 3, 6, 8, 9, 11}\n",
    "\n",
    "# Perform the union of (C ∩ A) and (C \\ B)\n",
    "result = (C & A) | (C - B)\n",
    "\n",
    "# Print the result\n",
    "print(\"Union of (C ∩ A) and (C \\\\ B):\", result)\n"
   ]
  },
  {
   "cell_type": "code",
   "execution_count": 28,
   "id": "ab0be945",
   "metadata": {},
   "outputs": [
    {
     "name": "stdout",
     "output_type": "stream",
     "text": [
      "Union of (C ∩ A) and (C \\ B): {2, 6, 8, 9}\n",
      "True\n"
     ]
    }
   ],
   "source": [
    "#Verify the union of elements intersection of sets A and C and the relative complement of sets C and B\n",
    "A = {2, 4, 6, 8, 10}\n",
    "B = {3, 8, 11, 12}\n",
    "C = {2, 3, 6, 8, 9, 11}\n",
    "\n",
    "#union of (C ∩ A) and (C \\ B)\n",
    "result = (C & A) | (C - B)\n",
    "\n",
    "# (C ∩ A) = {2, 6, 8}\n",
    "# (C \\ B) = {2, 6, 9}\n",
    "# Union = {2, 6, 8, 9}\n",
    "print(\"Union of (C ∩ A) and (C \\\\ B):\", result)\n",
    "print(result == {2, 6, 8, 9})  # True if the result is correct"
   ]
  },
  {
   "cell_type": "markdown",
   "id": "760a3b3b",
   "metadata": {},
   "source": [
    "Verfy answers"
   ]
  },
  {
   "cell_type": "code",
   "execution_count": 11,
   "id": "594085f7",
   "metadata": {},
   "outputs": [
    {
     "data": {
      "text/plain": [
       "True"
      ]
     },
     "execution_count": 11,
     "metadata": {},
     "output_type": "execute_result"
    }
   ],
   "source": [
    "#Verify the Intersections of sets A and B\n",
    "intersect == {8} # True if the intersection is correct"
   ]
  },
  {
   "cell_type": "code",
   "execution_count": 15,
   "id": "9c69fd29",
   "metadata": {},
   "outputs": [
    {
     "name": "stdout",
     "output_type": "stream",
     "text": [
      "True\n"
     ]
    }
   ],
   "source": [
    "#Verify the union of sets A and C\n",
    "union = A.union(C)\n",
    "print(union == {2, 3, 4, 6, 8, 9, 10, 11}) # True if the union is correct"
   ]
  },
  {
   "cell_type": "code",
   "execution_count": 19,
   "id": "5bd2d4fa",
   "metadata": {},
   "outputs": [
    {
     "name": "stdout",
     "output_type": "stream",
     "text": [
      "True\n"
     ]
    }
   ],
   "source": [
    "#Verify A^C\n",
    "Omega = set(range(1, 13))  # Ω = {1, 2, ..., 12}\n",
    "A = {2, 4, 6, 8, 10}\n",
    "complement_A = Omega - A\n",
    "print(complement_A == {1, 3, 5, 7, 9, 11, 12})  # True if the complement is correct"
   ]
  },
  {
   "cell_type": "code",
   "execution_count": 23,
   "id": "9031e93a",
   "metadata": {},
   "outputs": [
    {
     "name": "stdout",
     "output_type": "stream",
     "text": [
      "True\n"
     ]
    }
   ],
   "source": [
    "#Verify B^C\n",
    "Omega = set(range(1, 13))  # Ω = {1, 2, ..., 12}\n",
    "B = {3, 8, 11, 12}\n",
    "complement_B= Omega - B\n",
    "print(complement_B == {1, 2, 4, 5, 6, 7, 9, 10})  # True if the complement is correct"
   ]
  },
  {
   "cell_type": "code",
   "execution_count": 25,
   "id": "421d114f",
   "metadata": {},
   "outputs": [
    {
     "name": "stdout",
     "output_type": "stream",
     "text": [
      "True\n"
     ]
    }
   ],
   "source": [
    "#Verify the complement of the union of sets A and B\n",
    "Omega = set(range(1, 13))         # Ω = {1, 2, ..., 12}\n",
    "A = {2, 4, 6, 8, 10}\n",
    "B = {3, 8, 11, 12}\n",
    "union_AB = A | B                  # A ∪ B = {2, 3, 4, 6, 8, 10, 11, 12}\n",
    "complement_union = Omega - union_AB\n",
    "print(complement_union == {1, 5, 7, 9})  # True if the complement of the union is correct\n"
   ]
  },
  {
   "cell_type": "code",
   "execution_count": 31,
   "id": "b0ff0bdf",
   "metadata": {},
   "outputs": [
    {
     "name": "stdout",
     "output_type": "stream",
     "text": [
      "True\n"
     ]
    }
   ],
   "source": [
    "#Verify intersection of B with the complement of C\n",
    "B = {3, 8, 11, 12}\n",
    "C = {2, 3, 6, 8, 9, 11}\n",
    "Omega = set(range(1, 13))  # {1, 2, ..., 12}\n",
    "Omega - (B & C)  # Remove intersection of B and C from Omega\n",
    "\n",
    "\n",
    "print(Omega - (B & C) == {1, 2, 4, 5, 6, 7, 9, 10, 12})  #True if the intersection of B with the complement of C is correct.\n"
   ]
  },
  {
   "cell_type": "code",
   "execution_count": 26,
   "id": "579b34b4",
   "metadata": {},
   "outputs": [
    {
     "name": "stdout",
     "output_type": "stream",
     "text": [
      "True\n"
     ]
    }
   ],
   "source": [
    "\n",
    "#Verify the relative complement of the difference in sets A and B\n",
    "A = {2, 4, 6, 8, 10}\n",
    "B = {3, 8, 11, 12}\n",
    "relative_complement = A - B\n",
    "#A - B = {2, 4, 6, 10}\n",
    "print(relative_complement == {2, 4, 6, 10})  # True if the relative complement is correct"
   ]
  },
  {
   "cell_type": "code",
   "execution_count": 27,
   "id": "8f45ded6",
   "metadata": {},
   "outputs": [
    {
     "name": "stdout",
     "output_type": "stream",
     "text": [
      "True\n"
     ]
    }
   ],
   "source": [
    "#Verify the nested relative complement in sets A , B and C\n",
    "A = {2, 4, 6, 8, 10}\n",
    "B = {3, 8, 11, 12}\n",
    "C = {2, 3, 6, 8, 9, 11}\n",
    "relative_complement_nested = C - (B - A)\n",
    "\n",
    "# C - (B - A) = C - {3, 11, 12} = {2, 6, 8, 9}\n",
    "print(relative_complement_nested == {2, 6, 8, 9})  # True if the nested relative complement is correct"
   ]
  },
  {
   "cell_type": "markdown",
   "id": "07ba5cdb",
   "metadata": {},
   "source": [
    "####The Inclusion Exclusion Principle"
   ]
  },
  {
   "cell_type": "code",
   "execution_count": 16,
   "id": "c7bbd476",
   "metadata": {},
   "outputs": [
    {
     "name": "stdout",
     "output_type": "stream",
     "text": [
      "9\n"
     ]
    }
   ],
   "source": [
    "# Define your sets A, B, and C\n",
    "A = {2, 4, 6, 8, 10}\n",
    "B = {3, 8, 11, 12}\n",
    "C = {2, 3, 6, 8, 9, 11}\n",
    "\n",
    "# Left-hand side: cardinality of union of all three\n",
    "left_hand_eq = len(A.union(B).union(C))\n",
    "print(left_hand_eq)  # Output: should be the total number of unique elements\n",
    "\n"
   ]
  },
  {
   "cell_type": "code",
   "execution_count": 17,
   "id": "1fa32a21",
   "metadata": {},
   "outputs": [
    {
     "name": "stdout",
     "output_type": "stream",
     "text": [
      "9\n"
     ]
    }
   ],
   "source": [
    "# Right-hand side: inclusion-exclusion principle calculation\n",
    "right_hand_eq = (\n",
    "    len(A) + len(B) + len(C)\n",
    "    - len(A.intersection(B))\n",
    "    - len(A.intersection(C))\n",
    "    - len(B.intersection(C))\n",
    "    + len(A.intersection(B).intersection(C))\n",
    ")\n",
    "print(right_hand_eq)"
   ]
  },
  {
   "cell_type": "code",
   "execution_count": 18,
   "id": "8914a1f1",
   "metadata": {},
   "outputs": [
    {
     "name": "stdout",
     "output_type": "stream",
     "text": [
      "True\n"
     ]
    }
   ],
   "source": [
    "# Compare both sides\n",
    "print(left_hand_eq == right_hand_eq)  # Should print True"
   ]
  },
  {
   "cell_type": "markdown",
   "id": "adb05061",
   "metadata": {},
   "source": [
    " ####Python Set Operations for Mary, Nina, and Eve"
   ]
  },
  {
   "cell_type": "code",
   "execution_count": 19,
   "id": "0c846560",
   "metadata": {},
   "outputs": [
    {
     "name": "stdout",
     "output_type": "stream",
     "text": [
      "{'Rabbit', 'Goldfish'}\n"
     ]
    }
   ],
   "source": [
    "#Eve’s turtle passed away\n",
    "Eve = set([\"Rabbit\", \"Turtle\", \"Goldfish\"])\n",
    "Eve.discard(\"Turtle\")\n",
    "print(Eve)  # {'Rabbit', 'Goldfish'}"
   ]
  },
  {
   "cell_type": "code",
   "execution_count": 20,
   "id": "4dc8c094",
   "metadata": {},
   "outputs": [
    {
     "name": "stdout",
     "output_type": "stream",
     "text": [
      "{'Goldfish', 'Chicken', 'Cat', 'Rabbit', 'Dog', 'Chinchilla', 'Parrot', 'Horse', 'Donkey'}\n"
     ]
    }
   ],
   "source": [
    "#Nina takes care of Mary's pets too\n",
    "Nina = set([\"Cat\",\"Dog\",\"Rabbit\",\"Donkey\",\"Parrot\", \"Goldfish\"])\n",
    "Mary = set([\"Dog\",\"Chinchilla\",\"Horse\", \"Chicken\"])\n",
    "\n",
    "Nina.update(Mary)\n",
    "print(Nina)\n",
    "# {'Chicken', 'Horse', 'Chinchilla', 'Parrot', 'Rabbit', 'Donkey', 'Dog', 'Cat', 'Goldfish'}"
   ]
  },
  {
   "cell_type": "code",
   "execution_count": 21,
   "id": "94483043",
   "metadata": {},
   "outputs": [
    {
     "name": "stdout",
     "output_type": "stream",
     "text": [
      "set()\n"
     ]
    }
   ],
   "source": [
    "#Mary clears her list\n",
    "Mary.clear()\n",
    "print(Mary)  # set()"
   ]
  },
  {
   "cell_type": "code",
   "execution_count": 22,
   "id": "d04d2d71",
   "metadata": {},
   "outputs": [
    {
     "name": "stdout",
     "output_type": "stream",
     "text": [
      "9\n"
     ]
    }
   ],
   "source": [
    "# Count how many pets Nina has\n",
    "n_species_Nina = len(Nina)\n",
    "print(n_species_Nina)  # 9"
   ]
  },
  {
   "cell_type": "code",
   "execution_count": 23,
   "id": "5c943231",
   "metadata": {},
   "outputs": [
    {
     "name": "stdout",
     "output_type": "stream",
     "text": [
      "{'Chicken', 'Cat', 'Dog', 'Chinchilla', 'Parrot', 'Horse', 'Donkey'}\n"
     ]
    }
   ],
   "source": [
    "#Eve takes care of common pets (intersection)\n",
    "Nina.difference_update(Nina.intersection(Eve))\n",
    "print(Nina)  # 7 species now"
   ]
  },
  {
   "cell_type": "code",
   "execution_count": 24,
   "id": "8012819d",
   "metadata": {},
   "outputs": [],
   "source": [
    "import pandas as pd"
   ]
  },
  {
   "cell_type": "code",
   "execution_count": 30,
   "id": "f0a53b21",
   "metadata": {},
   "outputs": [],
   "source": [
    "europe = pd.read_excel(r\"C:\\Users\\Admin\\Desktop\\Data Science\\Europe_and_EU.xlsx\", sheet_name=\"Europe\")\n",
    "eu = pd.read_excel(r\"C:\\Users\\Admin\\Desktop\\Data Science\\Europe_and_EU.xlsx\", sheet_name=\"EU\")"
   ]
  },
  {
   "cell_type": "code",
   "execution_count": 28,
   "id": "e4b9e1a1",
   "metadata": {},
   "outputs": [
    {
     "name": "stdout",
     "output_type": "stream",
     "text": [
      "<class 'pandas.core.frame.DataFrame'>\n",
      "RangeIndex: 28 entries, 0 to 27\n",
      "Data columns (total 9 columns):\n",
      " #   Column                          Non-Null Count  Dtype         \n",
      "---  ------                          --------------  -----         \n",
      " 0   Rank                            28 non-null     int64         \n",
      " 1   Country                         28 non-null     object        \n",
      " 2   2017 population                 28 non-null     int64         \n",
      " 3   % of pop.                       28 non-null     float64       \n",
      " 4   Average relative annual growth  28 non-null     float64       \n",
      " 5   Average absolute annual growth  28 non-null     int64         \n",
      " 6   Official figure                 28 non-null     int64         \n",
      " 7   Date of last figure             28 non-null     datetime64[ns]\n",
      " 8   Source                          28 non-null     object        \n",
      "dtypes: datetime64[ns](1), float64(2), int64(4), object(2)\n",
      "memory usage: 2.1+ KB\n"
     ]
    }
   ],
   "source": [
    "eu.info()"
   ]
  },
  {
   "cell_type": "code",
   "execution_count": 31,
   "id": "6cf21444",
   "metadata": {},
   "outputs": [
    {
     "name": "stdout",
     "output_type": "stream",
     "text": [
      "Index(['Rank', 'Country', 'Population', '% of population',\n",
      "       'Average relative annual growth (%)', 'Average absolute annual growth',\n",
      "       'Estimated doubling time (Years)', 'Official figure (where available)',\n",
      "       'Date of last figure', 'Regional grouping', 'Source'],\n",
      "      dtype='object')\n",
      "Index(['Rank', 'Country', '2017 population', '% of pop.',\n",
      "       'Average relative annual growth', 'Average absolute annual growth',\n",
      "       'Official figure', 'Date of last figure', 'Source'],\n",
      "      dtype='object')\n"
     ]
    }
   ],
   "source": [
    "print(europe.columns)\n",
    "print(eu.columns)"
   ]
  },
  {
   "cell_type": "code",
   "execution_count": 32,
   "id": "ac42650a",
   "metadata": {},
   "outputs": [],
   "source": [
    "europe[\"Country\"] = europe[\"Country\"].str.strip()\n",
    "eu[\"Country\"] = eu[\"Country\"].str.strip()"
   ]
  },
  {
   "cell_type": "code",
   "execution_count": 33,
   "id": "2615cfc1",
   "metadata": {},
   "outputs": [
    {
     "data": {
      "text/html": [
       "<div>\n",
       "<style scoped>\n",
       "    .dataframe tbody tr th:only-of-type {\n",
       "        vertical-align: middle;\n",
       "    }\n",
       "\n",
       "    .dataframe tbody tr th {\n",
       "        vertical-align: top;\n",
       "    }\n",
       "\n",
       "    .dataframe thead th {\n",
       "        text-align: right;\n",
       "    }\n",
       "</style>\n",
       "<table border=\"1\" class=\"dataframe\">\n",
       "  <thead>\n",
       "    <tr style=\"text-align: right;\">\n",
       "      <th></th>\n",
       "      <th>Rank</th>\n",
       "      <th>Country</th>\n",
       "      <th>Population</th>\n",
       "      <th>% of population</th>\n",
       "      <th>Average relative annual growth (%)</th>\n",
       "      <th>Average absolute annual growth</th>\n",
       "      <th>Estimated doubling time (Years)</th>\n",
       "      <th>Official figure (where available)</th>\n",
       "      <th>Date of last figure</th>\n",
       "      <th>Regional grouping</th>\n",
       "      <th>Source</th>\n",
       "    </tr>\n",
       "  </thead>\n",
       "  <tbody>\n",
       "    <tr>\n",
       "      <th>0</th>\n",
       "      <td>1.0</td>\n",
       "      <td>Russia</td>\n",
       "      <td>143964709</td>\n",
       "      <td>17.15</td>\n",
       "      <td>0.19</td>\n",
       "      <td>294285</td>\n",
       "      <td>368</td>\n",
       "      <td>146839993</td>\n",
       "      <td>2017-01-01 00:00:00</td>\n",
       "      <td>EAEU</td>\n",
       "      <td>[1]</td>\n",
       "    </tr>\n",
       "    <tr>\n",
       "      <th>1</th>\n",
       "      <td>2.0</td>\n",
       "      <td>Germany</td>\n",
       "      <td>82521653</td>\n",
       "      <td>9.80</td>\n",
       "      <td>1.20</td>\n",
       "      <td>600000</td>\n",
       "      <td>90</td>\n",
       "      <td>82800000</td>\n",
       "      <td>2016-12-31 00:00:00</td>\n",
       "      <td>EU</td>\n",
       "      <td>Official estimate</td>\n",
       "    </tr>\n",
       "    <tr>\n",
       "      <th>2</th>\n",
       "      <td>3.0</td>\n",
       "      <td>Turkey</td>\n",
       "      <td>80810000</td>\n",
       "      <td>9.60</td>\n",
       "      <td>1.34</td>\n",
       "      <td>1035000</td>\n",
       "      <td>52</td>\n",
       "      <td>77695904</td>\n",
       "      <td>2016-12-31 00:00:00</td>\n",
       "      <td>NaN</td>\n",
       "      <td>[2]</td>\n",
       "    </tr>\n",
       "  </tbody>\n",
       "</table>\n",
       "</div>"
      ],
      "text/plain": [
       "   Rank  Country  Population  % of population  \\\n",
       "0   1.0   Russia   143964709            17.15   \n",
       "1   2.0  Germany    82521653             9.80   \n",
       "2   3.0   Turkey    80810000             9.60   \n",
       "\n",
       "   Average relative annual growth (%)  Average absolute annual growth  \\\n",
       "0                                0.19                          294285   \n",
       "1                                1.20                          600000   \n",
       "2                                1.34                         1035000   \n",
       "\n",
       "  Estimated doubling time (Years)  Official figure (where available)  \\\n",
       "0                             368                          146839993   \n",
       "1                              90                           82800000   \n",
       "2                              52                           77695904   \n",
       "\n",
       "   Date of last figure Regional grouping             Source  \n",
       "0  2017-01-01 00:00:00             EAEU                 [1]  \n",
       "1  2016-12-31 00:00:00               EU   Official estimate  \n",
       "2  2016-12-31 00:00:00               NaN                [2]  "
      ]
     },
     "execution_count": 33,
     "metadata": {},
     "output_type": "execute_result"
    }
   ],
   "source": [
    "europe.head(3)"
   ]
  },
  {
   "cell_type": "code",
   "execution_count": 34,
   "id": "58d130ac",
   "metadata": {},
   "outputs": [
    {
     "data": {
      "text/html": [
       "<div>\n",
       "<style scoped>\n",
       "    .dataframe tbody tr th:only-of-type {\n",
       "        vertical-align: middle;\n",
       "    }\n",
       "\n",
       "    .dataframe tbody tr th {\n",
       "        vertical-align: top;\n",
       "    }\n",
       "\n",
       "    .dataframe thead th {\n",
       "        text-align: right;\n",
       "    }\n",
       "</style>\n",
       "<table border=\"1\" class=\"dataframe\">\n",
       "  <thead>\n",
       "    <tr style=\"text-align: right;\">\n",
       "      <th></th>\n",
       "      <th>Rank</th>\n",
       "      <th>Country</th>\n",
       "      <th>2017 population</th>\n",
       "      <th>% of pop.</th>\n",
       "      <th>Average relative annual growth</th>\n",
       "      <th>Average absolute annual growth</th>\n",
       "      <th>Official figure</th>\n",
       "      <th>Date of last figure</th>\n",
       "      <th>Source</th>\n",
       "    </tr>\n",
       "  </thead>\n",
       "  <tbody>\n",
       "    <tr>\n",
       "      <th>0</th>\n",
       "      <td>1</td>\n",
       "      <td>Germany</td>\n",
       "      <td>82800000</td>\n",
       "      <td>16.18</td>\n",
       "      <td>0.76</td>\n",
       "      <td>628876</td>\n",
       "      <td>82576900</td>\n",
       "      <td>2017-03-31</td>\n",
       "      <td>Official estimate</td>\n",
       "    </tr>\n",
       "    <tr>\n",
       "      <th>1</th>\n",
       "      <td>2</td>\n",
       "      <td>France</td>\n",
       "      <td>67210459</td>\n",
       "      <td>13.10</td>\n",
       "      <td>0.40</td>\n",
       "      <td>265557</td>\n",
       "      <td>67174000</td>\n",
       "      <td>2018-01-01</td>\n",
       "      <td>Monthly official estimate</td>\n",
       "    </tr>\n",
       "    <tr>\n",
       "      <th>2</th>\n",
       "      <td>3</td>\n",
       "      <td>United Kingdom</td>\n",
       "      <td>65808573</td>\n",
       "      <td>12.86</td>\n",
       "      <td>0.65</td>\n",
       "      <td>428793</td>\n",
       "      <td>65648100</td>\n",
       "      <td>2017-06-30</td>\n",
       "      <td>Official estimate</td>\n",
       "    </tr>\n",
       "  </tbody>\n",
       "</table>\n",
       "</div>"
      ],
      "text/plain": [
       "   Rank         Country  2017 population  % of pop.  \\\n",
       "0     1         Germany         82800000      16.18   \n",
       "1     2          France         67210459      13.10   \n",
       "2     3  United Kingdom         65808573      12.86   \n",
       "\n",
       "   Average relative annual growth  Average absolute annual growth  \\\n",
       "0                            0.76                          628876   \n",
       "1                            0.40                          265557   \n",
       "2                            0.65                          428793   \n",
       "\n",
       "   Official figure Date of last figure                     Source  \n",
       "0         82576900          2017-03-31          Official estimate  \n",
       "1         67174000          2018-01-01  Monthly official estimate  \n",
       "2         65648100          2017-06-30          Official estimate  "
      ]
     },
     "execution_count": 34,
     "metadata": {},
     "output_type": "execute_result"
    }
   ],
   "source": [
    "eu.head(3)"
   ]
  },
  {
   "cell_type": "code",
   "execution_count": 35,
   "id": "2833588a",
   "metadata": {},
   "outputs": [],
   "source": [
    "europe_set = set(europe[\"Country\"])\n",
    "eu_set = set(eu[\"Country\"])"
   ]
  },
  {
   "cell_type": "code",
   "execution_count": 37,
   "id": "49172a4b",
   "metadata": {},
   "outputs": [
    {
     "name": "stdout",
     "output_type": "stream",
     "text": [
      "True\n"
     ]
    }
   ],
   "source": [
    "is_subset = eu_set.issubset(europe_set)\n",
    "print(is_subset)"
   ]
  },
  {
   "cell_type": "code",
   "execution_count": 39,
   "id": "d5fb44e6",
   "metadata": {},
   "outputs": [
    {
     "name": "stdout",
     "output_type": "stream",
     "text": [
      "{'Jersey (UK)', 'Svalbard (Norway)', 'Azerbaijan', 'Liechtenstein', 'Monaco', 'Vatican City', 'Russia', 'Andorra', 'Switzerland', 'Belarus', 'Guernsey (UK)', 'Georgia', 'Moldova', 'Isle of Man (UK)', 'Åland Islands (Finland)', 'Turkey', 'Bosnia and Herzegovina', 'Kosovo', 'Macedonia', 'Albania', 'Armenia', 'San Marino', 'Ukraine', 'Serbia', 'Montenegro', 'Faroe Islands (Denmark)', 'Gibraltar (UK)', 'Norway', 'Iceland'}\n"
     ]
    }
   ],
   "source": [
    "none_eu = europe_set - eu_set\n",
    "print (none_eu)"
   ]
  },
  {
   "cell_type": "markdown",
   "id": "9de6692a",
   "metadata": {},
   "source": []
  }
 ],
 "metadata": {
  "kernelspec": {
   "display_name": "Python 3",
   "language": "python",
   "name": "python3"
  },
  "language_info": {
   "codemirror_mode": {
    "name": "ipython",
    "version": 3
   },
   "file_extension": ".py",
   "mimetype": "text/x-python",
   "name": "python",
   "nbconvert_exporter": "python",
   "pygments_lexer": "ipython3",
   "version": "3.12.10"
  }
 },
 "nbformat": 4,
 "nbformat_minor": 5
}
